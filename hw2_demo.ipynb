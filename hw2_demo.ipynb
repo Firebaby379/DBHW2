{
 "cells": [
  {
   "cell_type": "code",
   "execution_count": null,
   "metadata": {},
   "outputs": [],
   "source": [
    "!pip install psycopg2-binary\n",
    "\n",
    "from pandas import DataFrame as DF\n",
    "import json\n",
    "import psycopg2\n",
    "from psycopg2.extras import RealDictCursor\n",
    "\n",
    "with open('/home/jovyan/shared/__DEMO/miba_postgresql.json') as file:\n",
    "    access_data = json.load(file)\n",
    "    \n",
    "    \n",
    "with psycopg2.connect(\n",
    "    dbname='demo', \n",
    "    user=access_data['user'],\n",
    "    password=access_data['pass'], \n",
    "    host='10.0.0.28',\n",
    "    cursor_factory=RealDictCursor\n",
    ") as conn:\n",
    "    with conn.cursor() as cur:\n",
    "        cur.execute('SELECT 1 AS col')\n",
    "        print(DF(cur.fetchall()).head())"
   ]
  },
  {
   "cell_type": "code",
   "execution_count": null,
   "metadata": {},
   "outputs": [],
   "source": [
    "import sqlite3\n",
    "\n",
    "with conn.cursor() as cur:\n",
    "    cur.execute(\"\"\"SELECT AVG(empty_seats) as empty_seats FROM (\n",
    "        SELECT (count(s.seat_no) - (SELECT count(seat_no) FROM Boarding_passes AS bp WHERE bp.flight_id=f.flight_id)) AS empty_seats\n",
    "        FROM Flights AS f\n",
    "        INNER JOIN Seats AS s ON f.aircraft_code = s.aircraft_code\n",
    "        GROUP BY f.flight_id\n",
    "    ) as name\"\"\")\n",
    "    print(DF(cur.fetchall()))"
   ]
  },
  {
   "cell_type": "code",
   "execution_count": null,
   "metadata": {},
   "outputs": [],
   "source": [
    "with conn.cursor() as cur:\n",
    "    cur.execute(\"\"\"SELECT f.aircraft_code, AVG(f.actual_arrival - f.actual_departure) as average_flight_duration\n",
    "                   FROM flights AS f\n",
    "                   GROUP BY f.aircraft_code\n",
    "                   ORDER BY average_flight_duration DESC\n",
    "                   LIMIT 3\"\"\")\n",
    "    print(DF(cur.fetchall()))\n"
   ]
  },
  {
   "cell_type": "code",
   "execution_count": null,
   "metadata": {},
   "outputs": [],
   "source": []
  }
 ],
 "metadata": {
  "kernelspec": {
   "display_name": "Python 3",
   "language": "python",
   "name": "python3"
  },
  "language_info": {
   "codemirror_mode": {
    "name": "ipython",
    "version": 3
   },
   "file_extension": ".py",
   "mimetype": "text/x-python",
   "name": "python",
   "nbconvert_exporter": "python",
   "pygments_lexer": "ipython3",
   "version": "3.8.6"
  }
 },
 "nbformat": 4,
 "nbformat_minor": 4
}
